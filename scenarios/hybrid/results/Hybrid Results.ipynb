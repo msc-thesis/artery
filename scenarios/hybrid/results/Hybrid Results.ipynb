{
 "cells": [
  {
   "cell_type": "code",
   "execution_count": 11,
   "metadata": {},
   "outputs": [],
   "source": [
    "import pandas as pd"
   ]
  },
  {
   "cell_type": "code",
   "execution_count": 12,
   "metadata": {},
   "outputs": [],
   "source": [
    "hybrid = pd.read_csv(\"o.csv\")"
   ]
  },
  {
   "cell_type": "code",
   "execution_count": 19,
   "metadata": {},
   "outputs": [],
   "source": [
    "tmp = hybrid[\n",
    "    (hybrid.name == 'Vehicle latitude') |\n",
    "    (hybrid.name == 'Vehicle longitude') |\n",
    "    (hybrid.name == 'Event latitude') |\n",
    "    (hybrid.name == 'Event longitude')\n",
    "]"
   ]
  },
  {
   "cell_type": "code",
   "execution_count": 20,
   "metadata": {},
   "outputs": [
    {
     "data": {
      "text/html": [
       "<div>\n",
       "<style scoped>\n",
       "    .dataframe tbody tr th:only-of-type {\n",
       "        vertical-align: middle;\n",
       "    }\n",
       "\n",
       "    .dataframe tbody tr th {\n",
       "        vertical-align: top;\n",
       "    }\n",
       "\n",
       "    .dataframe thead th {\n",
       "        text-align: right;\n",
       "    }\n",
       "</style>\n",
       "<table border=\"1\" class=\"dataframe\">\n",
       "  <thead>\n",
       "    <tr style=\"text-align: right;\">\n",
       "      <th></th>\n",
       "      <th>run</th>\n",
       "      <th>type</th>\n",
       "      <th>module</th>\n",
       "      <th>name</th>\n",
       "      <th>attrname</th>\n",
       "      <th>attrvalue</th>\n",
       "      <th>value</th>\n",
       "      <th>vectime</th>\n",
       "      <th>vecvalue</th>\n",
       "    </tr>\n",
       "  </thead>\n",
       "  <tbody>\n",
       "    <tr>\n",
       "      <th>1450</th>\n",
       "      <td>M0-35-20211101-11:29:23-8153</td>\n",
       "      <td>vector</td>\n",
       "      <td>World.node[1].middleware.DenService.FogUseCase</td>\n",
       "      <td>Vehicle latitude</td>\n",
       "      <td>NaN</td>\n",
       "      <td>NaN</td>\n",
       "      <td>NaN</td>\n",
       "      <td>39.831928722003 70.761806231522</td>\n",
       "      <td>47.379076 47.379514</td>\n",
       "    </tr>\n",
       "    <tr>\n",
       "      <th>1451</th>\n",
       "      <td>M0-35-20211101-11:29:23-8153</td>\n",
       "      <td>vector</td>\n",
       "      <td>World.node[1].middleware.DenService.FogUseCase</td>\n",
       "      <td>Vehicle longitude</td>\n",
       "      <td>NaN</td>\n",
       "      <td>NaN</td>\n",
       "      <td>NaN</td>\n",
       "      <td>39.831928722003 70.761806231522</td>\n",
       "      <td>19.024679 19.036355</td>\n",
       "    </tr>\n",
       "    <tr>\n",
       "      <th>1452</th>\n",
       "      <td>M0-35-20211101-11:29:23-8153</td>\n",
       "      <td>vector</td>\n",
       "      <td>World.node[1].middleware.DenService.FogUseCase</td>\n",
       "      <td>Event latitude</td>\n",
       "      <td>NaN</td>\n",
       "      <td>NaN</td>\n",
       "      <td>NaN</td>\n",
       "      <td>39.831928722003 70.761806231522</td>\n",
       "      <td>47.379205 47.379206</td>\n",
       "    </tr>\n",
       "    <tr>\n",
       "      <th>1453</th>\n",
       "      <td>M0-35-20211101-11:29:23-8153</td>\n",
       "      <td>vector</td>\n",
       "      <td>World.node[1].middleware.DenService.FogUseCase</td>\n",
       "      <td>Event longitude</td>\n",
       "      <td>NaN</td>\n",
       "      <td>NaN</td>\n",
       "      <td>NaN</td>\n",
       "      <td>39.831928722003 70.761806231522</td>\n",
       "      <td>19.031471 19.031486</td>\n",
       "    </tr>\n",
       "    <tr>\n",
       "      <th>1454</th>\n",
       "      <td>M0-35-20211101-11:29:23-8153</td>\n",
       "      <td>vector</td>\n",
       "      <td>World.node[2].middleware.DenService.FogUseCase</td>\n",
       "      <td>Vehicle latitude</td>\n",
       "      <td>NaN</td>\n",
       "      <td>NaN</td>\n",
       "      <td>NaN</td>\n",
       "      <td>39.831930004984 57.868067325234</td>\n",
       "      <td>47.38035 47.378985</td>\n",
       "    </tr>\n",
       "  </tbody>\n",
       "</table>\n",
       "</div>"
      ],
      "text/plain": [
       "                               run    type  \\\n",
       "1450  M0-35-20211101-11:29:23-8153  vector   \n",
       "1451  M0-35-20211101-11:29:23-8153  vector   \n",
       "1452  M0-35-20211101-11:29:23-8153  vector   \n",
       "1453  M0-35-20211101-11:29:23-8153  vector   \n",
       "1454  M0-35-20211101-11:29:23-8153  vector   \n",
       "\n",
       "                                              module               name  \\\n",
       "1450  World.node[1].middleware.DenService.FogUseCase   Vehicle latitude   \n",
       "1451  World.node[1].middleware.DenService.FogUseCase  Vehicle longitude   \n",
       "1452  World.node[1].middleware.DenService.FogUseCase     Event latitude   \n",
       "1453  World.node[1].middleware.DenService.FogUseCase    Event longitude   \n",
       "1454  World.node[2].middleware.DenService.FogUseCase   Vehicle latitude   \n",
       "\n",
       "     attrname attrvalue  value                          vectime  \\\n",
       "1450      NaN       NaN    NaN  39.831928722003 70.761806231522   \n",
       "1451      NaN       NaN    NaN  39.831928722003 70.761806231522   \n",
       "1452      NaN       NaN    NaN  39.831928722003 70.761806231522   \n",
       "1453      NaN       NaN    NaN  39.831928722003 70.761806231522   \n",
       "1454      NaN       NaN    NaN  39.831930004984 57.868067325234   \n",
       "\n",
       "                 vecvalue  \n",
       "1450  47.379076 47.379514  \n",
       "1451  19.024679 19.036355  \n",
       "1452  47.379205 47.379206  \n",
       "1453  19.031471 19.031486  \n",
       "1454   47.38035 47.378985  "
      ]
     },
     "execution_count": 20,
     "metadata": {},
     "output_type": "execute_result"
    }
   ],
   "source": [
    "tmp.head()"
   ]
  },
  {
   "cell_type": "code",
   "execution_count": null,
   "metadata": {},
   "outputs": [],
   "source": []
  }
 ],
 "metadata": {
  "kernelspec": {
   "display_name": "Python 3",
   "language": "python",
   "name": "python3"
  },
  "language_info": {
   "codemirror_mode": {
    "name": "ipython",
    "version": 3
   },
   "file_extension": ".py",
   "mimetype": "text/x-python",
   "name": "python",
   "nbconvert_exporter": "python",
   "pygments_lexer": "ipython3",
   "version": "3.6.9"
  }
 },
 "nbformat": 4,
 "nbformat_minor": 4
}
